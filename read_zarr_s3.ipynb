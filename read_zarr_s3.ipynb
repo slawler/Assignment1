{
 "cells": [
  {
   "cell_type": "markdown",
   "metadata": {},
   "source": [
    "## Read zarr data from s3\n",
    "\n",
    "Analysis Of Record for Calbration dataset\n",
    "\n",
    " - [Description](https://registry.opendata.aws/noaa-nws-aorc/)\n",
    " - [Browse Data](https://noaa-nws-aorc-v1-1-1km.s3.amazonaws.com/index.html)"
   ]
  },
  {
   "cell_type": "code",
   "execution_count": 23,
   "metadata": {},
   "outputs": [],
   "source": [
    "# import s3fs\n",
    "import xarray as xr\n",
    "# import dask"
   ]
  },
  {
   "cell_type": "code",
   "execution_count": 24,
   "metadata": {},
   "outputs": [],
   "source": [
    "# Use s3fs to create a file like interface to read data from s3\n",
    "# fs = s3fs.S3FileSystem(anon=True)"
   ]
  },
  {
   "cell_type": "code",
   "execution_count": 25,
   "metadata": {},
   "outputs": [],
   "source": [
    "def s3_key_aorc(year:int, bucket_name:str=\"noaa-nws-aorc-v1-1-1km\")->str:\n",
    "    \"\"\"Return s3 key of zarr data for a given year.\"\"\"\n",
    "    return  f\"s3://{bucket_name}/{year}.zarr\""
   ]
  },
  {
   "cell_type": "markdown",
   "metadata": {},
   "source": [
    "### Read in a single year of data"
   ]
  },
  {
   "cell_type": "code",
   "execution_count": null,
   "metadata": {},
   "outputs": [],
   "source": [
    "key = s3_key_aorc(1979)\n",
    "print(key)"
   ]
  },
  {
   "cell_type": "code",
   "execution_count": null,
   "metadata": {},
   "outputs": [],
   "source": [
    "ds = xr.open_dataset(key, engine=\"zarr\")\n",
    "ds['TMP_2maboveground']"
   ]
  },
  {
   "cell_type": "markdown",
   "metadata": {},
   "source": [
    "### Read in multiple years of data"
   ]
  },
  {
   "cell_type": "code",
   "execution_count": null,
   "metadata": {},
   "outputs": [],
   "source": [
    "# Define start / end year \n",
    "start_year, end_year = 1979, 1982\n",
    "\n",
    "# Create list of years\n",
    "years = range(start_year, end_year)\n",
    "\n",
    "# Create list of s3 keys\n",
    "keys = [s3_key_aorc(y) for y in years]\n",
    "\n",
    "print(keys)\n"
   ]
  },
  {
   "cell_type": "code",
   "execution_count": 29,
   "metadata": {},
   "outputs": [],
   "source": [
    "# # do this\n",
    "# fs_keys = [s3fs.S3Map(k, s3=fs) for k in key]\n",
    "\n",
    "# # print the first fes\n",
    "# fs_keys[0:5]\n"
   ]
  },
  {
   "cell_type": "code",
   "execution_count": 30,
   "metadata": {},
   "outputs": [],
   "source": [
    "# Read in all years of data\n",
    "ds = xr.open_mfdataset(keys, engine=\"zarr\", consolidated=True, parallel=True)"
   ]
  },
  {
   "cell_type": "code",
   "execution_count": null,
   "metadata": {},
   "outputs": [],
   "source": [
    "ds['TMP_2maboveground']"
   ]
  },
  {
   "cell_type": "code",
   "execution_count": null,
   "metadata": {},
   "outputs": [],
   "source": []
  }
 ],
 "metadata": {
  "kernelspec": {
   "display_name": "venv",
   "language": "python",
   "name": "python3"
  },
  "language_info": {
   "codemirror_mode": {
    "name": "ipython",
    "version": 3
   },
   "file_extension": ".py",
   "mimetype": "text/x-python",
   "name": "python",
   "nbconvert_exporter": "python",
   "pygments_lexer": "ipython3",
   "version": "3.12.7"
  }
 },
 "nbformat": 4,
 "nbformat_minor": 2
}
